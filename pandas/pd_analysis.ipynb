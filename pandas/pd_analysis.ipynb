{
 "cells": [
  {
   "cell_type": "markdown",
   "metadata": {},
   "source": [
    "##### Importing modules"
   ]
  },
  {
   "cell_type": "code",
   "execution_count": 32,
   "metadata": {},
   "outputs": [],
   "source": [
    "import pandas as pd\n",
    "import numpy as np\n",
    "from formulas_daily import Tablas2,Analisisdiscreto,full_divisas, boxplot\n",
    "import sopres_rectangulo_new as sopre\n",
    "import seaborn as sns\n",
    "import matplotlib.pyplot as plt"
   ]
  },
  {
   "cell_type": "markdown",
   "metadata": {},
   "source": [
    "### Creation of divisa we use the formula Tablas2 from formulas_daily and selecting columns"
   ]
  },
  {
   "cell_type": "code",
   "execution_count": 33,
   "metadata": {},
   "outputs": [],
   "source": [
    "currency= Tablas2('EURUSD1440.csv')\n",
    "currency=Analisisdiscreto(currency)\n",
    "currency=currency[['Open', 'High', 'Low', 'Close','Vol','percambio','cum7', 'cum20','cum60' , 'cumyear']]"
   ]
  },
  {
   "cell_type": "markdown",
   "metadata": {
    "collapsed": true
   },
   "source": [
    "### Creating a dictionary to pass it to visiondicdivisas"
   ]
  },
  {
   "cell_type": "code",
   "execution_count": 34,
   "metadata": {
    "collapsed": true
   },
   "outputs": [],
   "source": [
    "# This formula plot the last five values for a given column and plot a line "
   ]
  },
  {
   "cell_type": "code",
   "execution_count": 35,
   "metadata": {},
   "outputs": [],
   "source": [
    "def boxplot(currency,column,rango=5):\n",
    "\n",
    "    grafica=sns.boxplot(currency[column], fliersize=5)\n",
    "    divisa_ayer=currency.iloc[:-1]\n",
    "    index_ayer=divisa_ayer.index.tolist()[-rango:]\n",
    "    index_ayer=[value.strftime('%Y-%m-%d') for value in index_ayer] # getting str format from index_ayer\n",
    "    rango=rango+1\n",
    "    colores=['red','magenta','orange','green','blue']\n",
    "    index_color=0\n",
    "    for i in range(1,rango):\n",
    "\n",
    "        grafica.axvline(divisa_ayer[column][-i], color=colores[index_color],label=index_ayer[-i],linewidth=2)\n",
    "        index_color+=1\n",
    "    grafica.legend(fontsize=10)\n",
    "    plt.title(column + ' semanal',fontsize=14)\n",
    "    plt.tick_params(axis='both', which= 'major', labelsize=14)\n",
    "    plt.show()"
   ]
  },
  {
   "cell_type": "code",
   "execution_count": 36,
   "metadata": {},
   "outputs": [],
   "source": [
    "def currency_vision(currency):\n",
    "    print(currency.iloc[-10:]) # print the last 30 values\n",
    "    boxplot(currency,'percambio')\n",
    "    boxplot(currency,'Vol')"
   ]
  },
  {
   "cell_type": "code",
   "execution_count": 37,
   "metadata": {},
   "outputs": [
    {
     "name": "stdout",
     "output_type": "stream",
     "text": [
      "               Open     High      Low    Close     Vol  percambio   cum7  cum20  cum60  cumyear            tipovol\n",
      "Date                                                                                                              \n",
      "2017-10-04  1.17424  1.17874  1.17347  1.17593   98392   0.131132  0.135 -1.305  3.069   11.228    negat > Volstd1\n",
      "2017-10-05  1.17601  1.17783  1.16986  1.17090   97173  -0.427747 -0.652 -2.612  2.771   10.800    negat > Volstd1\n",
      "2017-10-06  1.17100  1.17383  1.16688  1.17330  114348   0.204971 -0.680 -2.517  2.354   11.005        Vol > media\n",
      "2017-10-09  1.17350  1.17554  1.17191  1.17404   56672   0.063070  0.080 -1.772  2.327   11.068  negat > Volstd333\n",
      "2017-10-10  1.17400  1.18248  1.17388  1.18072   97943   0.568976  0.540 -1.317  2.244   11.637                  N\n",
      "2017-10-11  1.18089  1.18686  1.17947  1.18609  103273   0.454807  0.864 -0.186  3.024   12.092                  N\n",
      "2017-10-12  1.18600  1.18794  1.18264  1.18296   92193  -0.263892  1.028 -0.721  1.762   11.828                  N\n",
      "2017-10-13  1.18279  1.18744  1.18047  1.18188  101177  -0.091296  0.732 -1.039  1.396   11.737                  N\n",
      "2017-10-16  1.18101  1.18190  1.17799  1.17958   79682  -0.194605  0.474 -1.307  1.386   11.542    negat > Volstd1\n",
      "2017-10-17  1.17972  1.17976  1.17963  1.17975     145   0.014412 -0.081 -1.632  1.350   11.557  negat > Volstd333\n"
     ]
    },
    {
     "data": {
      "image/png": "[encoded data removed]",
      "text/plain": [
       "<matplotlib.figure.Figure at 0x16fbba6d5c0>"
      ]
     },
     "metadata": {},
     "output_type": "display_data"
    },
    {
     "data": {
      "image/png": "[encoded data removed]",
      "text/plain": [
       "<matplotlib.figure.Figure at 0x16fbba9ea90>"
      ]
     },
     "metadata": {},
     "output_type": "display_data"
    }
   ],
   "source": [
    "currency_vision(currency)"
   ]
  }
 ],
 "metadata": {
  "kernelspec": {
   "display_name": "Python 3",
   "language": "python",
   "name": "python3"
  },
  "language_info": {
   "codemirror_mode": {
    "name": "ipython",
    "version": 3
   },
   "file_extension": ".py",
   "mimetype": "text/x-python",
   "name": "python",
   "nbconvert_exporter": "python",
   "pygments_lexer": "ipython3",
   "version": "3.6.1"
  }
 },
 "nbformat": 4,
 "nbformat_minor": 2
}
